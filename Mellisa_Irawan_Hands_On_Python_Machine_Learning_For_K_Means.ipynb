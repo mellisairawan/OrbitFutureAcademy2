{
  "nbformat": 4,
  "nbformat_minor": 0,
  "metadata": {
    "colab": {
      "name": "Mellisa Irawan_Hands On Python  Machine Learning For K-Means.ipynb",
      "provenance": [],
      "collapsed_sections": [],
      "include_colab_link": true
    },
    "kernelspec": {
      "name": "python3",
      "display_name": "Python 3"
    },
    "language_info": {
      "name": "python"
    }
  },
  "cells": [
    {
      "cell_type": "markdown",
      "metadata": {
        "id": "view-in-github",
        "colab_type": "text"
      },
      "source": [
        "<a href=\"https://colab.research.google.com/github/mellisairawan/OrbitFutureAcademy2/blob/main/Mellisa_Irawan_Hands_On_Python_Machine_Learning_For_K_Means.ipynb\" target=\"_parent\"><img src=\"https://colab.research.google.com/assets/colab-badge.svg\" alt=\"Open In Colab\"/></a>"
      ]
    },
    {
      "cell_type": "markdown",
      "metadata": {
        "id": "fXZuzm-PctMq"
      },
      "source": [
        "**HANDS ON**\n",
        "\n",
        "![Hand ON](https://sapacademy.net/wp-content/uploads/2021/04/26ee5-learnprogramming.jpg)"
      ]
    },
    {
      "cell_type": "markdown",
      "metadata": {
        "id": "XowzMyHA4Ao0"
      },
      "source": [
        "## **LANGKAH 1**\n",
        "\n",
        "**KONEKSI DENGAN GITHUB**\n",
        "\n",
        "(https://github.com/jumadi-cloud/Fundamental-Python/tree/main/Dataset)"
      ]
    },
    {
      "cell_type": "code",
      "metadata": {
        "id": "nPxx5R386Kta",
        "colab": {
          "base_uri": "https://localhost:8080/"
        },
        "outputId": "150d4455-d56d-49ff-e79a-fd2de27bad0c"
      },
      "source": [
        "# Melakukan Coding disini \n",
        "!wget https://github.com/jumadi-cloud/Fundamental-Python/blob/main/Dataset/konsumen2.csv"
      ],
      "execution_count": null,
      "outputs": [
        {
          "output_type": "stream",
          "name": "stdout",
          "text": [
            "--2021-09-28 02:55:23--  https://github.com/jumadi-cloud/Fundamental-Python/blob/main/Dataset/konsumen2.csv\n",
            "Resolving github.com (github.com)... 140.82.112.3\n",
            "Connecting to github.com (github.com)|140.82.112.3|:443... connected.\n",
            "HTTP request sent, awaiting response... 200 OK\n",
            "Length: unspecified [text/html]\n",
            "Saving to: ‘konsumen2.csv’\n",
            "\n",
            "konsumen2.csv           [ <=>                ] 137.55K  --.-KB/s    in 0.008s  \n",
            "\n",
            "2021-09-28 02:55:23 (16.6 MB/s) - ‘konsumen2.csv’ saved [140849]\n",
            "\n"
          ]
        }
      ]
    },
    {
      "cell_type": "code",
      "metadata": {
        "id": "kx961-F8FSBu",
        "colab": {
          "base_uri": "https://localhost:8080/"
        },
        "outputId": "8270ef96-fa26-4cde-a64c-12bcaebaa174"
      },
      "source": [
        "# CARA CEK ISI DARI GITHUB (CARA ISI FOLDER)\n",
        "!ls "
      ],
      "execution_count": null,
      "outputs": [
        {
          "output_type": "stream",
          "name": "stdout",
          "text": [
            "konsumen2.csv  sample_data\n"
          ]
        }
      ]
    },
    {
      "cell_type": "markdown",
      "metadata": {
        "id": "cADYw8qSZDqo"
      },
      "source": [
        "## **Langkah 2**\n",
        "\n",
        "**IMPORT LIBRARY YANG DIBUTUHKAN**"
      ]
    },
    {
      "cell_type": "code",
      "metadata": {
        "id": "-rdSZnmHbd6U"
      },
      "source": [
        "# Import library\n",
        "import matplotlib.pyplot as plt\n",
        "import numpy as np\n",
        "import pandas as pd\n",
        "from sklearn.cluster import KMeans"
      ],
      "execution_count": null,
      "outputs": []
    },
    {
      "cell_type": "markdown",
      "metadata": {
        "id": "h4eEM32lY50M"
      },
      "source": [
        "## **Langkah 3**\n",
        "\n",
        "**Menyiapkan dataset**"
      ]
    },
    {
      "cell_type": "code",
      "metadata": {
        "id": "bHFayqEocQoF",
        "colab": {
          "base_uri": "https://localhost:8080/"
        },
        "outputId": "cb16ec7f-5da2-442f-ee4c-e27185719b6b"
      },
      "source": [
        "# Memanggil data dari github\n",
        "df = pd.read_csv(\"https://raw.githubusercontent.com/jumadi-cloud/Fundamental-Python/main/Dataset/konsumen2.csv\")\n",
        "df.keys()"
      ],
      "execution_count": null,
      "outputs": [
        {
          "output_type": "execute_result",
          "data": {
            "text/plain": [
              "Index(['Gaji', 'Pengeluaran'], dtype='object')"
            ]
          },
          "metadata": {},
          "execution_count": 7
        }
      ]
    },
    {
      "cell_type": "code",
      "metadata": {
        "id": "bC89su1fojZi",
        "colab": {
          "base_uri": "https://localhost:8080/",
          "height": 204
        },
        "outputId": "b1e76f7d-d24e-456f-c795-f60f1f2f8db2"
      },
      "source": [
        "# Mengecek data\n",
        "dataku = pd.DataFrame(df)\n",
        "dataku.head()"
      ],
      "execution_count": null,
      "outputs": [
        {
          "output_type": "execute_result",
          "data": {
            "text/html": [
              "<div>\n",
              "<style scoped>\n",
              "    .dataframe tbody tr th:only-of-type {\n",
              "        vertical-align: middle;\n",
              "    }\n",
              "\n",
              "    .dataframe tbody tr th {\n",
              "        vertical-align: top;\n",
              "    }\n",
              "\n",
              "    .dataframe thead th {\n",
              "        text-align: right;\n",
              "    }\n",
              "</style>\n",
              "<table border=\"1\" class=\"dataframe\">\n",
              "  <thead>\n",
              "    <tr style=\"text-align: right;\">\n",
              "      <th></th>\n",
              "      <th>Gaji</th>\n",
              "      <th>Pengeluaran</th>\n",
              "    </tr>\n",
              "  </thead>\n",
              "  <tbody>\n",
              "    <tr>\n",
              "      <th>0</th>\n",
              "      <td>2500</td>\n",
              "      <td>1750</td>\n",
              "    </tr>\n",
              "    <tr>\n",
              "      <th>1</th>\n",
              "      <td>3800</td>\n",
              "      <td>4200</td>\n",
              "    </tr>\n",
              "    <tr>\n",
              "      <th>2</th>\n",
              "      <td>3900</td>\n",
              "      <td>3800</td>\n",
              "    </tr>\n",
              "    <tr>\n",
              "      <th>3</th>\n",
              "      <td>4350</td>\n",
              "      <td>5500</td>\n",
              "    </tr>\n",
              "    <tr>\n",
              "      <th>4</th>\n",
              "      <td>4400</td>\n",
              "      <td>3200</td>\n",
              "    </tr>\n",
              "  </tbody>\n",
              "</table>\n",
              "</div>"
            ],
            "text/plain": [
              "   Gaji  Pengeluaran\n",
              "0  2500         1750\n",
              "1  3800         4200\n",
              "2  3900         3800\n",
              "3  4350         5500\n",
              "4  4400         3200"
            ]
          },
          "metadata": {},
          "execution_count": 8
        }
      ]
    },
    {
      "cell_type": "code",
      "metadata": {
        "id": "KS-8vNFOeHvo",
        "colab": {
          "base_uri": "https://localhost:8080/"
        },
        "outputId": "a6fc089a-b854-4d0a-fbdd-780ffa4c917b"
      },
      "source": [
        "X = np.array(df)\n",
        "print(X)"
      ],
      "execution_count": null,
      "outputs": [
        {
          "output_type": "stream",
          "name": "stdout",
          "text": [
            "[[ 2500  1750]\n",
            " [ 3800  4200]\n",
            " [ 3900  3800]\n",
            " [ 4350  5500]\n",
            " [ 4400  3200]\n",
            " [ 5500  5450]\n",
            " [ 5600  5950]\n",
            " [ 5750  4100]\n",
            " [ 6850  6050]\n",
            " [ 6900  8500]\n",
            " [ 7250  9500]\n",
            " [ 7350  6050]\n",
            " [ 7500  8500]\n",
            " [ 7800  9500]\n",
            " [ 8200  8300]\n",
            " [ 8500  6500]\n",
            " [ 8550  8400]\n",
            " [ 8750  6000]\n",
            " [ 9100 10500]\n",
            " [ 9100  8500]]\n"
          ]
        }
      ]
    },
    {
      "cell_type": "code",
      "metadata": {
        "id": "YVgh8RhTeOuo",
        "colab": {
          "base_uri": "https://localhost:8080/",
          "height": 312
        },
        "outputId": "bfce30f0-9bb4-4480-c273-f190abebd281"
      },
      "source": [
        "# Plot data point\n",
        "# Memvisualisasikan bagaimana telah diklasterisasikan\n",
        "\n",
        "plt.scatter(X[:,0], X[:,1], Label='True Position')\n",
        "plt.xlabel(\"Gaji\")\n",
        "plt.ylabel(\"Pengeluaran\")\n",
        "plt.title(\"Grafik konsumen\")\n",
        "plt.show"
      ],
      "execution_count": null,
      "outputs": [
        {
          "output_type": "execute_result",
          "data": {
            "text/plain": [
              "<function matplotlib.pyplot.show>"
            ]
          },
          "metadata": {},
          "execution_count": 18
        },
        {
          "output_type": "display_data",
          "data": {
            "image/png": "[encoded data removed]",
            "text/plain": [
              "<Figure size 432x288 with 1 Axes>"
            ]
          },
          "metadata": {
            "needs_background": "light"
          }
        }
      ]
    },
    {
      "cell_type": "markdown",
      "metadata": {
        "id": "79rC4Y9NpK0Q"
      },
      "source": [
        "## **LANGKAH 4**\n",
        "\n",
        "**MENGGUNAKAN LIBRARY K-MEANS**"
      ]
    },
    {
      "cell_type": "code",
      "metadata": {
        "id": "pyeEpEkpmnkm",
        "colab": {
          "base_uri": "https://localhost:8080/"
        },
        "outputId": "b3bf7680-5f96-47e6-fb31-01eaa73ab536"
      },
      "source": [
        "# Mengaktifkan K Means dengan jumlah K = 2\n",
        "kmeans = KMeans(n_clusters=2)\n",
        "kmeans.fit(X)"
      ],
      "execution_count": null,
      "outputs": [
        {
          "output_type": "execute_result",
          "data": {
            "text/plain": [
              "KMeans(algorithm='auto', copy_x=True, init='k-means++', max_iter=300,\n",
              "       n_clusters=2, n_init=10, n_jobs=None, precompute_distances='auto',\n",
              "       random_state=None, tol=0.0001, verbose=0)"
            ]
          },
          "metadata": {},
          "execution_count": 20
        }
      ]
    },
    {
      "cell_type": "code",
      "metadata": {
        "id": "ufGvM_Wjqxpp",
        "colab": {
          "base_uri": "https://localhost:8080/"
        },
        "outputId": "011a788e-e9a9-4ed0-c542-b6551947a894"
      },
      "source": [
        "# Menampilkan nilai centroid yang di generate oleh algoritma\n",
        "print(kmeans.cluster_centers_)"
      ],
      "execution_count": null,
      "outputs": [
        {
          "output_type": "stream",
          "name": "stdout",
          "text": [
            "[[4475.   4243.75]\n",
            " [7987.5  8025.  ]]\n"
          ]
        }
      ]
    },
    {
      "cell_type": "code",
      "metadata": {
        "id": "7X8c5g8YrxbG",
        "colab": {
          "base_uri": "https://localhost:8080/"
        },
        "outputId": "6155d1e0-7916-4ff0-f37a-03e369c8a9ca"
      },
      "source": [
        "# Menampilkan label data point\n",
        "print(kmeans.labels_)"
      ],
      "execution_count": null,
      "outputs": [
        {
          "output_type": "stream",
          "name": "stdout",
          "text": [
            "[0 0 0 0 0 0 0 0 1 1 1 1 1 1 1 1 1 1 1 1]\n"
          ]
        }
      ]
    },
    {
      "cell_type": "markdown",
      "metadata": {
        "id": "95-OUvEkp6MZ"
      },
      "source": [
        "## **LANGKAH 5**\n",
        "\n",
        "**MENAMPILKAN OUTPUT**"
      ]
    },
    {
      "cell_type": "code",
      "metadata": {
        "id": "3rtyPkkwtdD7",
        "colab": {
          "base_uri": "https://localhost:8080/",
          "height": 312
        },
        "outputId": "0c9494ab-7f3c-4677-f87c-95e4c0b729f0"
      },
      "source": [
        "# Plot data points\n",
        "# Memvisualisasikan bagaimana hasil klasterisasi\n",
        "plt.scatter(X[:,0], X[:,1], c=kmeans.labels_, cmap='rainbow')\n",
        "plt.xlabel(\"Gaji\")\n",
        "plt.ylabel(\"Pengeluaran\")\n",
        "plt.title(\"Grafik konsumen\")\n",
        "plt.show"
      ],
      "execution_count": null,
      "outputs": [
        {
          "output_type": "execute_result",
          "data": {
            "text/plain": [
              "<function matplotlib.pyplot.show>"
            ]
          },
          "metadata": {},
          "execution_count": 29
        },
        {
          "output_type": "display_data",
          "data": {
            "image/png": "[encoded data removed]",
            "text/plain": [
              "<Figure size 432x288 with 1 Axes>"
            ]
          },
          "metadata": {
            "needs_background": "light"
          }
        }
      ]
    },
    {
      "cell_type": "code",
      "metadata": {
        "id": "JI-MBVTuvc4O",
        "colab": {
          "base_uri": "https://localhost:8080/",
          "height": 312
        },
        "outputId": "6ecbfc80-4ae4-4391-eade-7d37dffcc0ad"
      },
      "source": [
        "# Plot data points\n",
        "# Memvisualisasikan bagaimana hasil klasterisasi\n",
        "# Menampilkan centroid warna hitam\n",
        "\n",
        "plt.scatter(X[:,0], X[:,1], c=kmeans.labels_, cmap='rainbow')\n",
        "plt.scatter(kmeans.cluster_centers_[:,0], kmeans.cluster_centers_[:,1], color='black')\n",
        "\n",
        "plt.xlabel(\"Gaji\")\n",
        "plt.ylabel(\"Pengeluaran\")\n",
        "plt.title(\"Grafik konsumen\")\n",
        "plt.show"
      ],
      "execution_count": null,
      "outputs": [
        {
          "output_type": "execute_result",
          "data": {
            "text/plain": [
              "<function matplotlib.pyplot.show>"
            ]
          },
          "metadata": {},
          "execution_count": 31
        },
        {
          "output_type": "display_data",
          "data": {
            "image/png": "[encoded data removed]",
            "text/plain": [
              "<Figure size 432x288 with 1 Axes>"
            ]
          },
          "metadata": {
            "needs_background": "light"
          }
        }
      ]
    },
    {
      "cell_type": "markdown",
      "metadata": {
        "id": "JpyW-yU4bWHv"
      },
      "source": [
        "**LATIHAN IN CASE**\n",
        "\n",
        "1. Mengunakan dataset local atau account Github masing - masing\n",
        "2. Practice coding with Google Colab atau Jupyter Notebook https://colab.research.google.com/notebooks/intro.ipynb?utm_source=scs-index#recent=true\n",
        "4. Ikuti langkah langkah yang sudah di berikan\n",
        "5. Membuat Account GitHub https://github.com/\n",
        "6. Kalau ada Eror kunjungi link ini https://stackoverflow.com/\n",
        "\n",
        "**CODING BUKAN UNTUK DI HAFAL MELAINKAN DI PAHAMI KONSEP DAN LOGIKA**\n",
        "\n",
        "**SELAMAT ANDA SUDAH BISA PYTHON**\n",
        "\n",
        "# Thank You"
      ]
    }
  ]
}